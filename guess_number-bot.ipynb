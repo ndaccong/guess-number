{
 "cells": [
  {
   "cell_type": "code",
   "execution_count": 14,
   "id": "9acbc76a-5082-4af0-ac0d-4f337d75fa49",
   "metadata": {},
   "outputs": [],
   "source": [
    "import random\n",
    "import numpy as np\n",
    "import itertools\n",
    "from copy import deepcopy"
   ]
  },
  {
   "cell_type": "code",
   "execution_count": 15,
   "id": "9131cfc1-6cca-44d1-8cd5-ff890a5ccf53",
   "metadata": {},
   "outputs": [],
   "source": [
    "class Core:\n",
    "    def __init__(\n",
    "        self,\n",
    "        length=4,\n",
    "        max_turn=10,\n",
    "        input_type='random'\n",
    "    ):\n",
    "        self.length = length\n",
    "        self.max_turn = max_turn\n",
    "        self.input_type = input_type\n",
    "    \n",
    "    def create_target(self):\n",
    "        if self.input_type == 'input':\n",
    "            target = input(f'Input a target number with length of {self.length}: ')\n",
    "            target = tuple(target)\n",
    "        elif self.input_type == 'random':\n",
    "            numbers = '0123456789'\n",
    "            number_list = list(itertools.permutations(numbers, self.length))\n",
    "            target = random.choice(number_list)\n",
    "        self.target = target\n",
    "        # return target\n",
    "    \n",
    "    def check(self, guess):\n",
    "        num_A = 0\n",
    "        num_B = 0\n",
    "        \n",
    "        for i in range(self.length):\n",
    "            if guess[i] == self.target[i]:\n",
    "                num_A += 1\n",
    "            elif guess[i] in self.target:\n",
    "                num_B += 1\n",
    "        # print(f'{num_A}A {num_B}B')\n",
    "        return num_A, num_B\n",
    "    \n",
    "    def play(self):\n",
    "        self.create_target()\n",
    "        n = 0\n",
    "        num_A = 0\n",
    "        num_B = 0\n",
    "        while num_A < self.length and n < self.max_turn:\n",
    "            n += 1\n",
    "            assert_input = False\n",
    "            while assert_input == False:\n",
    "                guess = input(f'Guess a number of length {self.length}: ')\n",
    "                if len(set(guess)) == self.length:\n",
    "                    assert_input = True\n",
    "            # guess = tuple(guess)\n",
    "            num_A, num_B = self.check(guess)\n",
    "            print(f'Turn {n}: {guess}   {num_A}A {num_B}B')\n",
    "            if num_A < self.length and n == self.max_turn:\n",
    "                    print('You lose!')\n",
    "            elif num_A == self.length:\n",
    "                print('Congratulation!')"
   ]
  },
  {
   "cell_type": "code",
   "execution_count": 16,
   "id": "fad53661-01db-478d-a8de-87083113985a",
   "metadata": {},
   "outputs": [],
   "source": [
    "class BruteForceBot(Core):\n",
    "    def __init__(self,\n",
    "                length=4,\n",
    "                max_turn=10,\n",
    "                input_type='random'\n",
    "                ):\n",
    "        super().__init__(length=length,\n",
    "                max_turn=max_turn,\n",
    "                input_type=input_type)\n",
    "        self.numbers = '0123456789'\n",
    "        self.candidates = set([''.join(x) for x in itertools.permutations(self.numbers, self.length)])\n",
    "        \n",
    "    def check_imagine(self, guess, imaginary_target):\n",
    "        num_A = 0\n",
    "        num_B = 0\n",
    "        for i in range(self.length):\n",
    "            if guess[i] == imaginary_target[i]:\n",
    "                num_A += 1\n",
    "            elif guess[i] in imaginary_target:\n",
    "                num_B += 1\n",
    "        return num_A, num_B\n",
    "        \n",
    "    \n",
    "    def best_choice(self, guess, result):\n",
    "        prior_cand_list = deepcopy(list(self.candidates))\n",
    "        print('Num candidates before:', len(prior_cand_list))\n",
    "        for cand in prior_cand_list:\n",
    "            if self.check_imagine(guess, cand) != result:\n",
    "                self.candidates.remove(cand)\n",
    "        print('Num candidates left:', len(self.candidates))\n",
    "        return np.random.choice(list(self.candidates))"
   ]
  },
  {
   "cell_type": "code",
   "execution_count": 11,
   "id": "af6ec69b-8fe0-4824-aa91-c70a7d27a15e",
   "metadata": {},
   "outputs": [],
   "source": [
    "a = Core(length=4)"
   ]
  },
  {
   "cell_type": "code",
   "execution_count": null,
   "id": "f6768440-643a-4e68-98d6-5b53a68175af",
   "metadata": {},
   "outputs": [
    {
     "name": "stdin",
     "output_type": "stream",
     "text": [
      "Guess a number of length 4:  1234\n"
     ]
    },
    {
     "name": "stdout",
     "output_type": "stream",
     "text": [
      "Turn 1: 1234   1A 1B\n"
     ]
    }
   ],
   "source": [
    "a.play()"
   ]
  },
  {
   "cell_type": "code",
   "execution_count": 25,
   "id": "9a8554b7-ee01-4bda-a2ec-490d10682a50",
   "metadata": {},
   "outputs": [],
   "source": [
    "b = BruteForceBot()"
   ]
  },
  {
   "cell_type": "code",
   "execution_count": 26,
   "id": "002e555d-a79f-48e2-bf59-044569bff4bf",
   "metadata": {},
   "outputs": [
    {
     "name": "stdout",
     "output_type": "stream",
     "text": [
      "Num candidates before: 5040\n",
      "Num candidates left: 1440\n"
     ]
    },
    {
     "data": {
      "text/plain": [
       "'6901'"
      ]
     },
     "execution_count": 26,
     "metadata": {},
     "output_type": "execute_result"
    }
   ],
   "source": [
    "b.best_choice('1234', (0, 1))"
   ]
  },
  {
   "cell_type": "code",
   "execution_count": 27,
   "id": "323d5d32-34c6-4141-8456-8e9daceed148",
   "metadata": {},
   "outputs": [
    {
     "name": "stdout",
     "output_type": "stream",
     "text": [
      "Num candidates before: 1440\n",
      "Num candidates left: 378\n"
     ]
    },
    {
     "data": {
      "text/plain": [
       "'0358'"
      ]
     },
     "execution_count": 27,
     "metadata": {},
     "output_type": "execute_result"
    }
   ],
   "source": [
    "b.best_choice('6901', (0, 1))"
   ]
  },
  {
   "cell_type": "code",
   "execution_count": 28,
   "id": "ef4dfd57-6c49-47a9-947f-2ace3d47a9a5",
   "metadata": {},
   "outputs": [
    {
     "name": "stdout",
     "output_type": "stream",
     "text": [
      "Num candidates before: 378\n",
      "Num candidates left: 84\n"
     ]
    },
    {
     "data": {
      "text/plain": [
       "'4879'"
      ]
     },
     "execution_count": 28,
     "metadata": {},
     "output_type": "execute_result"
    }
   ],
   "source": [
    "b.best_choice('0358', (0, 1))"
   ]
  },
  {
   "cell_type": "code",
   "execution_count": 29,
   "id": "d94cbd32-6569-4eaa-9e3b-0e285e0a28b4",
   "metadata": {},
   "outputs": [
    {
     "name": "stdout",
     "output_type": "stream",
     "text": [
      "Num candidates before: 84\n",
      "Num candidates left: 18\n"
     ]
    },
    {
     "data": {
      "text/plain": [
       "'8762'"
      ]
     },
     "execution_count": 29,
     "metadata": {},
     "output_type": "execute_result"
    }
   ],
   "source": [
    "b.best_choice('4879', (0, 2))"
   ]
  },
  {
   "cell_type": "code",
   "execution_count": 30,
   "id": "43432b53-29a9-46c9-8711-e277ab4d007e",
   "metadata": {},
   "outputs": [
    {
     "name": "stdout",
     "output_type": "stream",
     "text": [
      "Num candidates before: 18\n",
      "Num candidates left: 6\n"
     ]
    },
    {
     "data": {
      "text/plain": [
       "'9725'"
      ]
     },
     "execution_count": 30,
     "metadata": {},
     "output_type": "execute_result"
    }
   ],
   "source": [
    "b.best_choice('8762', (1, 1))"
   ]
  },
  {
   "cell_type": "code",
   "execution_count": 31,
   "id": "bb56f09e-7f97-4e5c-9b03-a517c63e666a",
   "metadata": {},
   "outputs": [
    {
     "name": "stdout",
     "output_type": "stream",
     "text": [
      "Num candidates before: 6\n",
      "Num candidates left: 2\n"
     ]
    },
    {
     "data": {
      "text/plain": [
       "'7465'"
      ]
     },
     "execution_count": 31,
     "metadata": {},
     "output_type": "execute_result"
    }
   ],
   "source": [
    "b.best_choice('9725', (1, 1))"
   ]
  },
  {
   "cell_type": "code",
   "execution_count": null,
   "id": "940fc692-157e-47c5-981d-bec0e05e1693",
   "metadata": {},
   "outputs": [],
   "source": []
  }
 ],
 "metadata": {
  "kernelspec": {
   "display_name": "Python 3",
   "language": "python",
   "name": "python3"
  },
  "language_info": {
   "codemirror_mode": {
    "name": "ipython",
    "version": 3
   },
   "file_extension": ".py",
   "mimetype": "text/x-python",
   "name": "python",
   "nbconvert_exporter": "python",
   "pygments_lexer": "ipython3",
   "version": "3.8.5"
  }
 },
 "nbformat": 4,
 "nbformat_minor": 5
}
