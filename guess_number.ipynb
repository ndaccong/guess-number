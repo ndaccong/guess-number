{
 "cells": [
  {
   "cell_type": "code",
   "execution_count": 1,
   "id": "9acbc76a-5082-4af0-ac0d-4f337d75fa49",
   "metadata": {},
   "outputs": [],
   "source": [
    "import random\n",
    "import numpy as np\n",
    "import itertools"
   ]
  },
  {
   "cell_type": "code",
   "execution_count": 2,
   "id": "9131cfc1-6cca-44d1-8cd5-ff890a5ccf53",
   "metadata": {},
   "outputs": [],
   "source": [
    "class Core:\n",
    "    def __init__(\n",
    "        self,\n",
    "        length=4,\n",
    "        max_turn=10,\n",
    "        input_type='random'\n",
    "    ):\n",
    "        self.length = length\n",
    "        self.max_turn = max_turn\n",
    "        self.input_type = input_type\n",
    "    \n",
    "    def create_target(self):\n",
    "        if self.input_type == 'input':\n",
    "            target = input(f'Input a target number with length of {self.length}: ')\n",
    "            target = tuple(target)\n",
    "        elif self.input_type == 'random':\n",
    "            numbers = '0123456789'\n",
    "            number_list = list(itertools.permutations(numbers, self.length))\n",
    "            target = random.choice(number_list)\n",
    "        self.target = target\n",
    "        # return target\n",
    "    \n",
    "    def check(self, guess):\n",
    "        num_A = 0\n",
    "        num_B = 0\n",
    "        \n",
    "        for i in range(self.length):\n",
    "            if guess[i] == self.target[i]:\n",
    "                num_A += 1\n",
    "            elif guess[i] in self.target:\n",
    "                num_B += 1\n",
    "        # print(f'{num_A}A {num_B}B')\n",
    "        return num_A, num_B\n",
    "    \n",
    "    def play(self):\n",
    "        self.create_target()\n",
    "        n = 0\n",
    "        num_A = 0\n",
    "        num_B = 0\n",
    "        while num_A < self.length and n <= self.max_turn:\n",
    "            n += 1\n",
    "            guess = input(f'Guess a number of length {self.length}: ')\n",
    "            # guess = tuple(guess)\n",
    "            num_A, num_B = self.check(guess)\n",
    "            print(f'Turn {n}: {num_A}A {num_B}B')\n",
    "            if num_A < self.length and n == self.max_turn:\n",
    "                    print('You lose!')\n",
    "            elif num_A == self.length:\n",
    "                print('Congratulation!')"
   ]
  },
  {
   "cell_type": "code",
   "execution_count": 5,
   "id": "af6ec69b-8fe0-4824-aa91-c70a7d27a15e",
   "metadata": {},
   "outputs": [],
   "source": [
    "a = Core()"
   ]
  },
  {
   "cell_type": "code",
   "execution_count": 6,
   "id": "6c67a1b0-b4d9-44da-8a9f-d11c1ac93108",
   "metadata": {},
   "outputs": [
    {
     "name": "stdin",
     "output_type": "stream",
     "text": [
      "Guess a number of length 4:  1234\n"
     ]
    },
    {
     "name": "stdout",
     "output_type": "stream",
     "text": [
      "Turn 1: 0A 0B\n"
     ]
    },
    {
     "name": "stdin",
     "output_type": "stream",
     "text": [
      "Guess a number of length 4:  5678\n"
     ]
    },
    {
     "name": "stdout",
     "output_type": "stream",
     "text": [
      "Turn 2: 0A 3B\n"
     ]
    },
    {
     "name": "stdin",
     "output_type": "stream",
     "text": [
      "Guess a number of length 4:  8769\n"
     ]
    },
    {
     "name": "stdout",
     "output_type": "stream",
     "text": [
      "Turn 3: 2A 0B\n"
     ]
    },
    {
     "name": "stdin",
     "output_type": "stream",
     "text": [
      "Guess a number of length 4:  8705\n"
     ]
    },
    {
     "name": "stdout",
     "output_type": "stream",
     "text": [
      "Turn 4: 2A 1B\n"
     ]
    },
    {
     "name": "stdin",
     "output_type": "stream",
     "text": [
      "Guess a number of length 4:  6705\n"
     ]
    },
    {
     "name": "stdout",
     "output_type": "stream",
     "text": [
      "Turn 5: 1A 2B\n"
     ]
    },
    {
     "name": "stdin",
     "output_type": "stream",
     "text": [
      "Guess a number of length 4:  8605\n"
     ]
    },
    {
     "name": "stdout",
     "output_type": "stream",
     "text": [
      "Turn 6: 2A 2B\n"
     ]
    },
    {
     "name": "stdin",
     "output_type": "stream",
     "text": [
      "Guess a number of length 4:  8065\n"
     ]
    },
    {
     "name": "stdout",
     "output_type": "stream",
     "text": [
      "Turn 7: 4A 0B\n",
      "Congratulation!\n"
     ]
    }
   ],
   "source": [
    "a.play()"
   ]
  },
  {
   "cell_type": "code",
   "execution_count": null,
   "id": "d40ab24c-cb5b-44a4-b397-60dc9776c99e",
   "metadata": {},
   "outputs": [],
   "source": []
  },
  {
   "cell_type": "code",
   "execution_count": null,
   "id": "fad53661-01db-478d-a8de-87083113985a",
   "metadata": {},
   "outputs": [],
   "source": []
  },
  {
   "cell_type": "code",
   "execution_count": null,
   "id": "9a8554b7-ee01-4bda-a2ec-490d10682a50",
   "metadata": {},
   "outputs": [],
   "source": []
  }
 ],
 "metadata": {
  "kernelspec": {
   "display_name": "Python 3",
   "language": "python",
   "name": "python3"
  },
  "language_info": {
   "codemirror_mode": {
    "name": "ipython",
    "version": 3
   },
   "file_extension": ".py",
   "mimetype": "text/x-python",
   "name": "python",
   "nbconvert_exporter": "python",
   "pygments_lexer": "ipython3",
   "version": "3.8.5"
  }
 },
 "nbformat": 4,
 "nbformat_minor": 5
}
